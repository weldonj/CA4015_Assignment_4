{
 "cells": [
  {
   "cell_type": "markdown",
   "metadata": {
    "id": "NN9th4rb7Zp4"
   },
   "source": [
    "# Univariate Time Series Forecasting"
   ]
  },
  {
   "cell_type": "markdown",
   "metadata": {
    "id": "WhVCmCQGd6uW"
   },
   "source": [
    "## Install fbprophet for our forecasting"
   ]
  },
  {
   "cell_type": "code",
   "execution_count": null,
   "metadata": {
    "id": "vUGz8fz-jRyb"
   },
   "outputs": [],
   "source": [
    "# Install fbprophet as it's not there by default on Colab instances\n",
    "\n",
    "pip install fbprophet"
   ]
  },
  {
   "cell_type": "markdown",
   "metadata": {
    "id": "4lNpInGoeJG8"
   },
   "source": [
    "## Import fbprophet, datetime, pandas, timeseriessplit, numpy"
   ]
  },
  {
   "cell_type": "code",
   "execution_count": 68,
   "metadata": {
    "id": "0Sdqxx9yeITe"
   },
   "outputs": [],
   "source": [
    "# import the required packages and libraries\n",
    "\n",
    "import numpy as np\n",
    "import pandas as pd\n",
    "import fbprophet\n",
    "from plotnine import * \n",
    "from sklearn.model_selection import TimeSeriesSplit \n",
    "from fbprophet import Prophet \n",
    "from datetime import datetime\n",
    "from pandas import read_csv"
   ]
  },
  {
   "cell_type": "markdown",
   "metadata": {
    "id": "qq9-wqiId_MF"
   },
   "source": [
    "## Mount our Google drive"
   ]
  },
  {
   "cell_type": "code",
   "execution_count": 69,
   "metadata": {
    "colab": {
     "base_uri": "https://localhost:8080/"
    },
    "id": "Wqi4aEgHjhE3",
    "outputId": "e499fd40-c4e6-42a2-f231-9de384e98b5e"
   },
   "outputs": [
    {
     "name": "stdout",
     "output_type": "stream",
     "text": [
      "Drive already mounted at /content/drive; to attempt to forcibly remount, call drive.mount(\"/content/drive\", force_remount=True).\n"
     ]
    }
   ],
   "source": [
    "# import our google drive\n",
    "\n",
    "from google.colab import drive\n",
    "drive.mount('/content/drive')"
   ]
  },
  {
   "cell_type": "markdown",
   "metadata": {
    "id": "tJbb2LKHeVVO"
   },
   "source": [
    "## Load our datasets from our Google Drive, and take a look at the shapes"
   ]
  },
  {
   "cell_type": "markdown",
   "metadata": {
    "id": "VPYOZC00t0z3"
   },
   "source": [
    "We had created a nice clean dataset in the previous assignment so we were able to simply now import this for the forecasting stage"
   ]
  },
  {
   "cell_type": "code",
   "execution_count": 70,
   "metadata": {
    "colab": {
     "base_uri": "https://localhost:8080/"
    },
    "id": "gCUk4QGtjsq0",
    "outputId": "b8e68966-50e2-489f-b2b1-3ea20e5e6967"
   },
   "outputs": [
    {
     "name": "stdout",
     "output_type": "stream",
     "text": [
      "(26417, 271)\n",
      "(26417, 3)\n",
      "   Unnamed: 0  ...  value__permutation_entropy__dimension_4__tau_1\n",
      "0       46343  ...                                            -0.0\n",
      "1       46343  ...                                            -0.0\n",
      "2       46343  ...                                            -0.0\n",
      "3       46343  ...                                            -0.0\n",
      "4       46343  ...                                            -0.0\n",
      "\n",
      "[5 rows x 271 columns]\n",
      "      id  time  1\n",
      "0  46343   390  0\n",
      "1  46343   420  0\n",
      "2  46343   450  0\n",
      "3  46343   480  0\n",
      "4  46343   510  0\n"
     ]
    }
   ],
   "source": [
    "# load data\n",
    "X = pd.read_csv('/content/drive/My Drive/CA4015/sleep_classify/extracted_features.csv')\n",
    "Y = pd.read_csv('/content/drive/My Drive/CA4015/sleep_classify/extracted_features_labels.csv')\n",
    "# summarize shape\n",
    "print(X.shape)\n",
    "print(Y.shape)\n",
    "# show first few rows\n",
    "print(X.head())\n",
    "print(Y.head())"
   ]
  },
  {
   "cell_type": "markdown",
   "metadata": {
    "id": "ye7TiYNpe-nv"
   },
   "source": [
    "## Join our sleep stage label data back to the extracted features data"
   ]
  },
  {
   "cell_type": "markdown",
   "metadata": {
    "id": "6KqJ8o-1t9qc"
   },
   "source": [
    "For the purposes of this assignment we wanted to rejoin our extracted features data with the true sleep stage labels"
   ]
  },
  {
   "cell_type": "code",
   "execution_count": 71,
   "metadata": {
    "colab": {
     "base_uri": "https://localhost:8080/"
    },
    "id": "14CbxKVlj0n6",
    "outputId": "5240e815-ec44-4cb3-c715-9b78a2efaf4e"
   },
   "outputs": [
    {
     "name": "stdout",
     "output_type": "stream",
     "text": [
      "(26417, 271)\n"
     ]
    }
   ],
   "source": [
    "full_df = pd.concat([Y[[\"time\", \"1\"]], X[X.columns[2:]]], axis=1)\n",
    "print(full_df.shape)"
   ]
  },
  {
   "cell_type": "markdown",
   "metadata": {
    "id": "584dG5jI1ahz"
   },
   "source": [
    "We aksi wanted to add our subject IDs back in"
   ]
  },
  {
   "cell_type": "code",
   "execution_count": 72,
   "metadata": {
    "id": "9rE7ApVCkRki"
   },
   "outputs": [],
   "source": [
    "# add subject id back in\n",
    "full_df = pd.concat([Y[[\"time\", \"1\", \"id\"]], X[X.columns[2:]]], axis=1)"
   ]
  },
  {
   "cell_type": "markdown",
   "metadata": {
    "id": "adzFK0HcfHlB"
   },
   "source": [
    "## Convert our time column into the format that fbProphet needs"
   ]
  },
  {
   "cell_type": "markdown",
   "metadata": {
    "id": "iDuvaGnF1haY"
   },
   "source": [
    "fbProphet needs the data to be in a precise format, with a 'ds' column for datetime and a 'y' column for the target column"
   ]
  },
  {
   "cell_type": "code",
   "execution_count": 73,
   "metadata": {
    "id": "mMu8tl3kkUvC"
   },
   "outputs": [],
   "source": [
    "# convert time column into fbProphet-friendly datetime format\n",
    "full_df = full_df.rename(columns={\"time\": \"ds\", \"1\": \"y\"})\n",
    "full_df[\"ds\"] = full_df['ds'] = pd.to_datetime(full_df['ds'], unit='s')"
   ]
  },
  {
   "cell_type": "markdown",
   "metadata": {
    "id": "eIX-qaU6fhvP"
   },
   "source": [
    "## Create a dictionary of each sleep subjects' seperate dataframes "
   ]
  },
  {
   "cell_type": "code",
   "execution_count": 74,
   "metadata": {
    "id": "2PBCXsRCknrF"
   },
   "outputs": [],
   "source": [
    "# creates a dictionary of each sleep subject's dataframe\n",
    "\n",
    "dfs = dict(tuple(full_df.groupby('id')))"
   ]
  },
  {
   "cell_type": "markdown",
   "metadata": {
    "id": "6M6wm7VRmg7t"
   },
   "source": [
    "## Get us the list of unique subject IDs"
   ]
  },
  {
   "cell_type": "code",
   "execution_count": 75,
   "metadata": {
    "id": "xowXunjFkpYa"
   },
   "outputs": [],
   "source": [
    "# gets us the list of unique subject IDs\n",
    "\n",
    "id_list = list(full_df['id'])\n",
    "id_set = set(id_list)\n",
    "id_list = list(id_set)"
   ]
  },
  {
   "cell_type": "markdown",
   "metadata": {
    "id": "XqKht8OL1tlR"
   },
   "source": [
    "## Split into 5 time series"
   ]
  },
  {
   "cell_type": "code",
   "execution_count": 76,
   "metadata": {
    "id": "851VYlkU55wa"
   },
   "outputs": [],
   "source": [
    "# sets the amount of splits we want per dataframe\n",
    "\n",
    "tscv = TimeSeriesSplit(n_splits=5)"
   ]
  },
  {
   "cell_type": "markdown",
   "metadata": {
    "id": "8GXhw02918tt"
   },
   "source": [
    "## Function for splitting our dataframe, building the model, and forecasting"
   ]
  },
  {
   "cell_type": "code",
   "execution_count": 77,
   "metadata": {
    "id": "oLzVsuOg583O"
   },
   "outputs": [],
   "source": [
    "def pro_ds_data_gen(df,tscv,daily_seasonality=True,weekly_seasonality=False,yearly_seasonality=False):\n",
    "    out_df=pd.DataFrame()\n",
    "    for i,(train_i,test_i) in enumerate(tscv.split(df)): #For Time Series Split\n",
    "        #Use indexes to grab the correct data for this split\n",
    "        train_df=df.copy().iloc[train_i,:]\n",
    "        test_df=df.copy().iloc[test_i,:]\n",
    "        #Build our model using prophet and make predictions on the test set\n",
    "        model=Prophet(\n",
    "            daily_seasonality=daily_seasonality,\n",
    "            yearly_seasonality=yearly_seasonality,\n",
    "            weekly_seasonality=weekly_seasonality\n",
    "        )\n",
    "        model.fit(train_df)\n",
    "        predictions=model.predict(test_df)\n",
    "\n",
    "        #Combine predictions and training into one df for plotting\n",
    "        pred_df=predictions.loc[:,[\"ds\",\"yhat\"]]\n",
    "        pred_df[\"y\"]=test_df.y.tolist()\n",
    "        train_df[\"train\"]=\"Train\"\n",
    "        pred_df[\"train\"]=\"Test\"\n",
    "        sub_df=train_df.append(pred_df).reset_index(drop=True)\n",
    "        sub_df[\"split\"]=\"Split \"+str(i+1)\n",
    "        sub_df[\"rmse\"]=(np.mean((sub_df.yhat-sub_df.y)**2))**.5 #calculating rmse for the split\n",
    "        out_df=out_df.append(sub_df).reset_index(drop=True)\n",
    "    return out_df"
   ]
  },
  {
   "cell_type": "markdown",
   "metadata": {
    "id": "QzFGiIdO2JiE"
   },
   "source": [
    "## Our first subject"
   ]
  },
  {
   "cell_type": "code",
   "execution_count": 132,
   "metadata": {
    "colab": {
     "base_uri": "https://localhost:8080/",
     "height": 562
    },
    "id": "xTgveVA65-mf",
    "outputId": "b0950acc-4f46-48f7-9c66-d82e6a77a244"
   },
   "outputs": [
    {
     "name": "stderr",
     "output_type": "stream",
     "text": [
      "/usr/local/lib/python3.6/dist-packages/plotnine/utils.py:1246: FutureWarning:\n",
      "\n",
      "is_categorical is deprecated and will be removed in a future version.  Use is_categorical_dtype instead\n",
      "\n"
     ]
    },
    {
     "data": {
      "image/png": "[encoded data removed]",
      "text/plain": [
       "<Figure size 640x480 with 5 Axes>"
      ]
     },
     "metadata": {
      "filenames": {
       "image/png": "C:\\Users\\John\\CA4015_Assignment_4\\_build\\jupyter_execute\\FirstPage_27_1.png"
      },
      "tags": []
     },
     "output_type": "display_data"
    },
    {
     "data": {
      "text/plain": [
       "<ggplot: (8729629998898)>"
      ]
     },
     "execution_count": 132,
     "metadata": {
      "tags": []
     },
     "output_type": "execute_result"
    }
   ],
   "source": [
    "# Subject 46343 was chosen as the subject to try out first \n",
    "\n",
    "dfs[46343] = dfs[46343][['ds','y']]\n",
    "year_weak_seas_df=pro_ds_data_gen(dfs[46343],tscv, True, False, False)\n",
    "\n",
    "(ggplot(year_weak_seas_df,aes(\"ds\",\"y\",color=\"factor(train)\"))+\\\n",
    " geom_point()+facet_grid('split~.'))+\\\n",
    "labs(title=\"Train/Test Splits\",x=\"Time\",y=\"Sleep Stage\")+\\\n",
    "scale_x_date(date_breaks=\"6 months\",date_labels =  \"%b %Y\")"
   ]
  },
  {
   "cell_type": "markdown",
   "metadata": {
    "id": "vOH8pTY42gqr"
   },
   "source": [
    "We can see above that this subject looks to have a pretty standard sleep cycle for the night in question. They start from awake and gradually move through the sleep stages before returning to awake at the end"
   ]
  },
  {
   "cell_type": "markdown",
   "metadata": {
    "id": "0obQmEB45Pj2"
   },
   "source": [
    "We now wanted to see what the root mean square error was from our prediction and we can see below that it's very high at over 5"
   ]
  },
  {
   "cell_type": "code",
   "execution_count": 133,
   "metadata": {
    "colab": {
     "base_uri": "https://localhost:8080/"
    },
    "id": "okWHJt_H8ui2",
    "outputId": "5459456f-e8ed-4590-ad9c-260a223ae0ca"
   },
   "outputs": [
    {
     "name": "stdout",
     "output_type": "stream",
     "text": [
      "5.873423473140108\n"
     ]
    }
   ],
   "source": [
    "# gets us the root mean squared error between the actual y values and the predicted y values in our test splits\n",
    "from sklearn.metrics import mean_squared_error\n",
    "rmse_df = year_weak_seas_df[year_weak_seas_df['train'] == \"Test\"]\n",
    "rms = mean_squared_error(rmse_df['y'], rmse_df['yhat'], squared=False)\n",
    "print(rms)\n",
    "\n",
    "\n",
    "\n"
   ]
  },
  {
   "cell_type": "markdown",
   "metadata": {
    "id": "Ae9BUjBQ5WlX"
   },
   "source": [
    "This can be fixed somewhat by restricting the prefictions to the true range of the sleep stages, [0-5] and also ensuring that any floating point numbers were converted to the appropriate category, eg. (3.2 -> 3, 4.7 -> 5) "
   ]
  },
  {
   "cell_type": "code",
   "execution_count": 134,
   "metadata": {
    "id": "Eo-qxfAF6xcn"
   },
   "outputs": [],
   "source": [
    "# loops through our training/test splits and creates a single yhat column for plotting purposes\n",
    "# also ensures that any sleep stage predictions that have gone above 5 are set back to 5 and any that have gone below 0 are set back to 0, keeping us in our 0-5 range for the cycle\n",
    "for i in range(0,len(year_weak_seas_df)):\n",
    "  if pd.isnull(year_weak_seas_df.iloc[i,3]):\n",
    "    year_weak_seas_df.iloc[i,3] = year_weak_seas_df.iloc[i,1]\n",
    "  if float(year_weak_seas_df.iloc[i,3]) > 5:\n",
    "    year_weak_seas_df.iloc[i,3] = 5\n",
    "  elif float(year_weak_seas_df.iloc[i,3]) < 0:\n",
    "    year_weak_seas_df.iloc[i,3] = 0\n",
    "year_weak_seas_df[\"yhat\"] = year_weak_seas_df[\"yhat\"].astype(int)\n",
    "year_weak_seas_df[\"yhat\"] = year_weak_seas_df[\"yhat\"].astype(str)"
   ]
  },
  {
   "cell_type": "markdown",
   "metadata": {
    "id": "c-fYtNec5ssq"
   },
   "source": [
    "Checking again"
   ]
  },
  {
   "cell_type": "code",
   "execution_count": 135,
   "metadata": {
    "colab": {
     "base_uri": "https://localhost:8080/"
    },
    "id": "bXzhGL0L5rxY",
    "outputId": "f28fd1e6-48a7-4651-b8ae-875feb17a7f6"
   },
   "outputs": [
    {
     "name": "stdout",
     "output_type": "stream",
     "text": [
      "3.018061571965342\n"
     ]
    }
   ],
   "source": [
    "# gets us the root mean squared error between the actual y values and the predicted y values in our test splits\n",
    "from sklearn.metrics import mean_squared_error\n",
    "rmse_df = year_weak_seas_df[year_weak_seas_df['train'] == \"Test\"]\n",
    "rms = mean_squared_error(rmse_df['y'], rmse_df['yhat'], squared=False)\n",
    "print(rms)\n"
   ]
  },
  {
   "cell_type": "markdown",
   "metadata": {
    "id": "5R4FMXHb5v5C"
   },
   "source": [
    "We can see it has improved although still isn't very good. If we take a look at the below, the real splits followed by the predicted splits, we can get a feel for where things are going badly"
   ]
  },
  {
   "cell_type": "code",
   "execution_count": 87,
   "metadata": {
    "colab": {
     "base_uri": "https://localhost:8080/",
     "height": 562
    },
    "id": "PDjkzHjqxGOT",
    "outputId": "fc03b986-fcc6-4f50-b60b-6487edfa72af"
   },
   "outputs": [
    {
     "name": "stderr",
     "output_type": "stream",
     "text": [
      "/usr/local/lib/python3.6/dist-packages/plotnine/utils.py:1246: FutureWarning:\n",
      "\n",
      "is_categorical is deprecated and will be removed in a future version.  Use is_categorical_dtype instead\n",
      "\n"
     ]
    },
    {
     "data": {
      "image/png": "[encoded data removed]",
      "text/plain": [
       "<Figure size 640x480 with 5 Axes>"
      ]
     },
     "metadata": {
      "filenames": {
       "image/png": "C:\\Users\\John\\CA4015_Assignment_4\\_build\\jupyter_execute\\FirstPage_36_1.png"
      },
      "tags": []
     },
     "output_type": "display_data"
    },
    {
     "data": {
      "text/plain": [
       "<ggplot: (8729645448014)>"
      ]
     },
     "execution_count": 87,
     "metadata": {
      "tags": []
     },
     "output_type": "execute_result"
    }
   ],
   "source": [
    "# plot the true splits once more, as above\n",
    "\n",
    "(ggplot(year_weak_seas_df,aes(\"ds\",\"y\",color=\"factor(train)\"))+\\\n",
    " geom_point()+facet_grid('split~.'))+\\\n",
    "labs(title=\"Train/Test Splits\",x=\"Time\",y=\"Sleep Stage\")+\\\n",
    "scale_x_date(date_breaks=\"6 months\",date_labels =  \"%b %Y\")\n"
   ]
  },
  {
   "cell_type": "code",
   "execution_count": 86,
   "metadata": {
    "colab": {
     "base_uri": "https://localhost:8080/",
     "height": 562
    },
    "id": "sVD5EXDC9eXz",
    "outputId": "e059f390-a783-46af-c74d-8c9bc963e259"
   },
   "outputs": [
    {
     "name": "stderr",
     "output_type": "stream",
     "text": [
      "/usr/local/lib/python3.6/dist-packages/plotnine/utils.py:1246: FutureWarning:\n",
      "\n",
      "is_categorical is deprecated and will be removed in a future version.  Use is_categorical_dtype instead\n",
      "\n"
     ]
    },
    {
     "data": {
      "image/png": "[encoded data removed]",
      "text/plain": [
       "<Figure size 640x480 with 5 Axes>"
      ]
     },
     "metadata": {
      "filenames": {
       "image/png": "C:\\Users\\John\\CA4015_Assignment_4\\_build\\jupyter_execute\\FirstPage_37_1.png"
      },
      "tags": []
     },
     "output_type": "display_data"
    },
    {
     "data": {
      "text/plain": [
       "<ggplot: (8729629855524)>"
      ]
     },
     "execution_count": 86,
     "metadata": {
      "tags": []
     },
     "output_type": "execute_result"
    }
   ],
   "source": [
    "# plot the predicted splits\n",
    "\n",
    "(ggplot(year_weak_seas_df,aes(\"ds\",\"yhat\",color=\"factor(train)\"))+\\\n",
    " geom_point()+facet_grid('split~.'))+\\\n",
    "labs(title=\"Train/Test Splits\",x=\"Time\",y=\"Sleep Stage\")+\\\n",
    "scale_x_date(date_breaks=\"6 months\",date_labels =  \"%b %Y\")"
   ]
  },
  {
   "cell_type": "markdown",
   "metadata": {
    "id": "X0i25U6u6jDR"
   },
   "source": [
    "## Thoughts after this step. and where to next"
   ]
  },
  {
   "cell_type": "markdown",
   "metadata": {
    "id": "9M6IQ9C4ANkE"
   },
   "source": [
    "It's clear from the above that all our model is doing is continuing the previous trend for each split. Our model knows nothing about how the \"sleep cycle\" is likely to play out and so it continues to increase or decrease the sleep stage number based purely on whether it had mvoed up or down recently. And so if we carry our prediction on long enough, the subject will either be perpetually in Sleep stage 5, or sleep stage 0 (awake) depending on whether the stage had recently increased or decreased. This really isn't that useful at all. This makes sense when we think about how the dataset is somewhat flawed for the task that we have. We only have one cycle per person and so if we split this cycle at all, there is no way to train our model to predict what will happen in the remainig sleep cycle."
   ]
  },
  {
   "cell_type": "markdown",
   "metadata": {
    "id": "UgpSz15MDcl3"
   },
   "source": [
    "At this stage we decided that we needed to move on from this approach so as not to waste any more time. We needed to rethink the data, and make some assumptions and changes that will allow for some meaningful forecast modelling. \n",
    "\n",
    "We decided that next we should retry this Univariate approach but instead of taking each of the 31 individual subjects as being unique, we could instead pretend that the first 30 individuals sleep cycles were in fact 30 previous nights of our 31st subject. Giving us a lot of sleep data for a single theoritical person, and something far more meaningful to try train our forecasting model on. "
   ]
  },
  {
   "cell_type": "markdown",
   "metadata": {
    "id": "wp_s2v_J-Jw_"
   },
   "source": [
    "# Univariate Assuming Data All Belongs To One Subject"
   ]
  },
  {
   "cell_type": "markdown",
   "metadata": {
    "id": "rSK-sO2i6aeL"
   },
   "source": [
    "## Create one large dataframe for our theoretical subject"
   ]
  },
  {
   "cell_type": "code",
   "execution_count": null,
   "metadata": {
    "id": "mRdIxCYEBAtW"
   },
   "outputs": [],
   "source": [
    "# this will incrementally add one day to the datetime for each subject, essentially creating a 31 day range instead of the same date per subject\n",
    "\n",
    "i = 1\n",
    "for subject, df in dfs.items():\n",
    "  dfs[subject] = dfs[subject][['ds','y']]\n",
    "  dfs[subject]['ds'] = df['ds'].apply(lambda dt: dt.replace(day=i))\n",
    "  i = i + 1"
   ]
  },
  {
   "cell_type": "code",
   "execution_count": 93,
   "metadata": {
    "id": "VeeIZSVLBXG-"
   },
   "outputs": [],
   "source": [
    "joined_df = pd.DataFrame()"
   ]
  },
  {
   "cell_type": "markdown",
   "metadata": {
    "id": "OHkI46R-6wub"
   },
   "source": [
    "This will add the first 30 subjects to a single data frame, and add our final subject to their own dataframe"
   ]
  },
  {
   "cell_type": "code",
   "execution_count": 94,
   "metadata": {
    "id": "YYf4XwRHEkEB"
   },
   "outputs": [],
   "source": [
    "i = 1\n",
    "for subject, df in dfs.items():\n",
    "  if i < len(dfs):\n",
    "    joined_df = pd.concat([joined_df, df], ignore_index=True)\n",
    "  else:\n",
    "    test_df = df\n",
    "  i = i + 1"
   ]
  },
  {
   "cell_type": "code",
   "execution_count": 98,
   "metadata": {
    "colab": {
     "base_uri": "https://localhost:8080/",
     "height": 406
    },
    "id": "JW5QVsCTMDU8",
    "outputId": "d7685da8-5bf9-4167-e819-cf596603df10"
   },
   "outputs": [
    {
     "data": {
      "text/html": [
       "<div>\n",
       "<style scoped>\n",
       "    .dataframe tbody tr th:only-of-type {\n",
       "        vertical-align: middle;\n",
       "    }\n",
       "\n",
       "    .dataframe tbody tr th {\n",
       "        vertical-align: top;\n",
       "    }\n",
       "\n",
       "    .dataframe thead th {\n",
       "        text-align: right;\n",
       "    }\n",
       "</style>\n",
       "<table border=\"1\" class=\"dataframe\">\n",
       "  <thead>\n",
       "    <tr style=\"text-align: right;\">\n",
       "      <th></th>\n",
       "      <th>ds</th>\n",
       "      <th>y</th>\n",
       "    </tr>\n",
       "  </thead>\n",
       "  <tbody>\n",
       "    <tr>\n",
       "      <th>0</th>\n",
       "      <td>1970-01-01 00:06:30</td>\n",
       "      <td>0</td>\n",
       "    </tr>\n",
       "    <tr>\n",
       "      <th>1</th>\n",
       "      <td>1970-01-01 00:07:00</td>\n",
       "      <td>0</td>\n",
       "    </tr>\n",
       "    <tr>\n",
       "      <th>2</th>\n",
       "      <td>1970-01-01 00:07:30</td>\n",
       "      <td>0</td>\n",
       "    </tr>\n",
       "    <tr>\n",
       "      <th>3</th>\n",
       "      <td>1970-01-01 00:08:00</td>\n",
       "      <td>0</td>\n",
       "    </tr>\n",
       "    <tr>\n",
       "      <th>4</th>\n",
       "      <td>1970-01-01 00:08:30</td>\n",
       "      <td>0</td>\n",
       "    </tr>\n",
       "    <tr>\n",
       "      <th>...</th>\n",
       "      <td>...</td>\n",
       "      <td>...</td>\n",
       "    </tr>\n",
       "    <tr>\n",
       "      <th>26052</th>\n",
       "      <td>1970-01-31 02:57:30</td>\n",
       "      <td>2</td>\n",
       "    </tr>\n",
       "    <tr>\n",
       "      <th>26053</th>\n",
       "      <td>1970-01-31 02:58:00</td>\n",
       "      <td>2</td>\n",
       "    </tr>\n",
       "    <tr>\n",
       "      <th>26054</th>\n",
       "      <td>1970-01-31 02:58:30</td>\n",
       "      <td>2</td>\n",
       "    </tr>\n",
       "    <tr>\n",
       "      <th>26055</th>\n",
       "      <td>1970-01-31 02:59:00</td>\n",
       "      <td>2</td>\n",
       "    </tr>\n",
       "    <tr>\n",
       "      <th>26056</th>\n",
       "      <td>1970-01-31 02:59:30</td>\n",
       "      <td>2</td>\n",
       "    </tr>\n",
       "  </tbody>\n",
       "</table>\n",
       "<p>26057 rows × 2 columns</p>\n",
       "</div>"
      ],
      "text/plain": [
       "                       ds  y\n",
       "0     1970-01-01 00:06:30  0\n",
       "1     1970-01-01 00:07:00  0\n",
       "2     1970-01-01 00:07:30  0\n",
       "3     1970-01-01 00:08:00  0\n",
       "4     1970-01-01 00:08:30  0\n",
       "...                   ... ..\n",
       "26052 1970-01-31 02:57:30  2\n",
       "26053 1970-01-31 02:58:00  2\n",
       "26054 1970-01-31 02:58:30  2\n",
       "26055 1970-01-31 02:59:00  2\n",
       "26056 1970-01-31 02:59:30  2\n",
       "\n",
       "[26057 rows x 2 columns]"
      ]
     },
     "execution_count": 98,
     "metadata": {
      "tags": []
     },
     "output_type": "execute_result"
    }
   ],
   "source": [
    "joined_df"
   ]
  },
  {
   "cell_type": "markdown",
   "metadata": {
    "id": "ju5YP94s68c2"
   },
   "source": [
    "This will take half of the final subject's data and add it back to the large training dataframe, theoritcally helping our forecast "
   ]
  },
  {
   "cell_type": "code",
   "execution_count": 96,
   "metadata": {
    "id": "0YFOExIxKJie"
   },
   "outputs": [],
   "source": [
    "i = 0\n",
    "for row in test_df:\n",
    "  while i < len(test_df)/2:\n",
    "    joined_df = joined_df.append(test_df.iloc[i])\n",
    "    i = i + 1\n",
    "\n",
    "\n"
   ]
  },
  {
   "cell_type": "code",
   "execution_count": 97,
   "metadata": {
    "id": "UWjZO_vKPBvh"
   },
   "outputs": [],
   "source": [
    "test_df = test_df.iloc[int(len(test_df)/2):]"
   ]
  },
  {
   "cell_type": "markdown",
   "metadata": {
    "id": "HXZ-wnv_8QzI"
   },
   "source": [
    "Ensure the datetime column is actually in datetime format for compatibility"
   ]
  },
  {
   "cell_type": "code",
   "execution_count": null,
   "metadata": {
    "id": "CRvrPGh_SSzO"
   },
   "outputs": [],
   "source": [
    "test_df.ds = pd.to_datetime(test_df.ds)"
   ]
  },
  {
   "cell_type": "markdown",
   "metadata": {
    "id": "NzelJ8mz7F6U"
   },
   "source": [
    "Building and fitting our model"
   ]
  },
  {
   "cell_type": "code",
   "execution_count": 100,
   "metadata": {
    "id": "LVljc_2UYpwS"
   },
   "outputs": [],
   "source": [
    "from fbprophet import Prophet\n",
    "model = Prophet(daily_seasonality=True, yearly_seasonality=False, weekly_seasonality=False)"
   ]
  },
  {
   "cell_type": "code",
   "execution_count": 101,
   "metadata": {
    "colab": {
     "base_uri": "https://localhost:8080/"
    },
    "id": "eqTZ3USOYqXP",
    "outputId": "8689b2e6-77bb-4da5-c9db-01ed2d7ffd39"
   },
   "outputs": [
    {
     "data": {
      "text/plain": [
       "<fbprophet.forecaster.Prophet at 0x7f08681c8198>"
      ]
     },
     "execution_count": 101,
     "metadata": {
      "tags": []
     },
     "output_type": "execute_result"
    }
   ],
   "source": [
    "model.fit(joined_df)"
   ]
  },
  {
   "cell_type": "markdown",
   "metadata": {
    "id": "7porJeLD7Q5I"
   },
   "source": [
    "Making our forecasting dataframe"
   ]
  },
  {
   "cell_type": "code",
   "execution_count": 102,
   "metadata": {
    "id": "WdHjwTOyYqmb"
   },
   "outputs": [],
   "source": [
    "forecast = model.predict(test_df)"
   ]
  },
  {
   "cell_type": "markdown",
   "metadata": {
    "id": "iXMqFidf7bwi"
   },
   "source": [
    "Resetting the indexes and joining the test dataframe with the forecasting dataframe"
   ]
  },
  {
   "cell_type": "code",
   "execution_count": 139,
   "metadata": {
    "id": "PdXay8Uckkmg"
   },
   "outputs": [],
   "source": [
    "joined_forecast = pd.DataFrame()\n",
    "joined_forecast = pd.concat([test_df[['ds','y']].reset_index(), forecast[['yhat']].reset_index()], axis=1)"
   ]
  },
  {
   "cell_type": "markdown",
   "metadata": {
    "id": "Tgo8cDKr7hSx"
   },
   "source": [
    "Let's take a look at what we are left with, we can see it has exactly what we want for analysis, the timestamps "
   ]
  },
  {
   "cell_type": "code",
   "execution_count": 140,
   "metadata": {
    "colab": {
     "base_uri": "https://localhost:8080/",
     "height": 406
    },
    "id": "no1ksn1gk_er",
    "outputId": "3ef32dc1-8864-40b3-fe5c-15f33873baf6"
   },
   "outputs": [
    {
     "data": {
      "text/html": [
       "<div>\n",
       "<style scoped>\n",
       "    .dataframe tbody tr th:only-of-type {\n",
       "        vertical-align: middle;\n",
       "    }\n",
       "\n",
       "    .dataframe tbody tr th {\n",
       "        vertical-align: top;\n",
       "    }\n",
       "\n",
       "    .dataframe thead th {\n",
       "        text-align: right;\n",
       "    }\n",
       "</style>\n",
       "<table border=\"1\" class=\"dataframe\">\n",
       "  <thead>\n",
       "    <tr style=\"text-align: right;\">\n",
       "      <th></th>\n",
       "      <th>index</th>\n",
       "      <th>ds</th>\n",
       "      <th>y</th>\n",
       "      <th>index</th>\n",
       "      <th>yhat</th>\n",
       "    </tr>\n",
       "  </thead>\n",
       "  <tbody>\n",
       "    <tr>\n",
       "      <th>0</th>\n",
       "      <td>26057</td>\n",
       "      <td>1970-01-31 03:00:00</td>\n",
       "      <td>2</td>\n",
       "      <td>0</td>\n",
       "      <td>2.293918</td>\n",
       "    </tr>\n",
       "    <tr>\n",
       "      <th>1</th>\n",
       "      <td>26058</td>\n",
       "      <td>1970-01-31 03:00:30</td>\n",
       "      <td>2</td>\n",
       "      <td>1</td>\n",
       "      <td>2.293913</td>\n",
       "    </tr>\n",
       "    <tr>\n",
       "      <th>2</th>\n",
       "      <td>26059</td>\n",
       "      <td>1970-01-31 03:01:00</td>\n",
       "      <td>2</td>\n",
       "      <td>2</td>\n",
       "      <td>2.293928</td>\n",
       "    </tr>\n",
       "    <tr>\n",
       "      <th>3</th>\n",
       "      <td>26060</td>\n",
       "      <td>1970-01-31 03:01:30</td>\n",
       "      <td>2</td>\n",
       "      <td>3</td>\n",
       "      <td>2.293962</td>\n",
       "    </tr>\n",
       "    <tr>\n",
       "      <th>4</th>\n",
       "      <td>26061</td>\n",
       "      <td>1970-01-31 03:02:00</td>\n",
       "      <td>2</td>\n",
       "      <td>4</td>\n",
       "      <td>2.294014</td>\n",
       "    </tr>\n",
       "    <tr>\n",
       "      <th>...</th>\n",
       "      <td>...</td>\n",
       "      <td>...</td>\n",
       "      <td>...</td>\n",
       "      <td>...</td>\n",
       "      <td>...</td>\n",
       "    </tr>\n",
       "    <tr>\n",
       "      <th>355</th>\n",
       "      <td>26412</td>\n",
       "      <td>1970-01-31 05:57:30</td>\n",
       "      <td>0</td>\n",
       "      <td>355</td>\n",
       "      <td>2.464653</td>\n",
       "    </tr>\n",
       "    <tr>\n",
       "      <th>356</th>\n",
       "      <td>26413</td>\n",
       "      <td>1970-01-31 05:58:00</td>\n",
       "      <td>0</td>\n",
       "      <td>356</td>\n",
       "      <td>2.465585</td>\n",
       "    </tr>\n",
       "    <tr>\n",
       "      <th>357</th>\n",
       "      <td>26414</td>\n",
       "      <td>1970-01-31 05:58:30</td>\n",
       "      <td>0</td>\n",
       "      <td>357</td>\n",
       "      <td>2.466533</td>\n",
       "    </tr>\n",
       "    <tr>\n",
       "      <th>358</th>\n",
       "      <td>26415</td>\n",
       "      <td>1970-01-31 05:59:00</td>\n",
       "      <td>0</td>\n",
       "      <td>358</td>\n",
       "      <td>2.467496</td>\n",
       "    </tr>\n",
       "    <tr>\n",
       "      <th>359</th>\n",
       "      <td>26416</td>\n",
       "      <td>1970-01-31 05:59:30</td>\n",
       "      <td>0</td>\n",
       "      <td>359</td>\n",
       "      <td>2.468474</td>\n",
       "    </tr>\n",
       "  </tbody>\n",
       "</table>\n",
       "<p>360 rows × 5 columns</p>\n",
       "</div>"
      ],
      "text/plain": [
       "     index                  ds  y  index      yhat\n",
       "0    26057 1970-01-31 03:00:00  2      0  2.293918\n",
       "1    26058 1970-01-31 03:00:30  2      1  2.293913\n",
       "2    26059 1970-01-31 03:01:00  2      2  2.293928\n",
       "3    26060 1970-01-31 03:01:30  2      3  2.293962\n",
       "4    26061 1970-01-31 03:02:00  2      4  2.294014\n",
       "..     ...                 ... ..    ...       ...\n",
       "355  26412 1970-01-31 05:57:30  0    355  2.464653\n",
       "356  26413 1970-01-31 05:58:00  0    356  2.465585\n",
       "357  26414 1970-01-31 05:58:30  0    357  2.466533\n",
       "358  26415 1970-01-31 05:59:00  0    358  2.467496\n",
       "359  26416 1970-01-31 05:59:30  0    359  2.468474\n",
       "\n",
       "[360 rows x 5 columns]"
      ]
     },
     "execution_count": 140,
     "metadata": {
      "tags": []
     },
     "output_type": "execute_result"
    }
   ],
   "source": [
    "joined_forecast"
   ]
  },
  {
   "cell_type": "markdown",
   "metadata": {
    "id": "LsJrtW3W70sM"
   },
   "source": [
    "Once more fixing the predictions by restricting them to the true range of the sleep stages, [0-5] and also ensuring that any floating point numbers were converted to the appropriate category, eg. (3.2 -> 3, 4.7 -> 5)"
   ]
  },
  {
   "cell_type": "code",
   "execution_count": 110,
   "metadata": {
    "id": "Uv1KkoY7kC2G"
   },
   "outputs": [],
   "source": [
    "for i in range(0,len(joined_forecast)):\n",
    "  joined_forecast.iloc[i,4] = round(float(joined_forecast.iloc[i,4]))\n",
    "  \n",
    "  if float(joined_forecast.iloc[i,4]) > 5:\n",
    "    joined_forecast.iloc[i,4] = 5\n",
    "  elif float(joined_forecast.iloc[i,4]) < 0:\n",
    "    joined_forecast.iloc[i,4] = 0\n",
    "\n",
    "joined_forecast[\"yhat\"] = joined_forecast[\"yhat\"].astype(int)\n",
    "joined_forecast[\"yhat\"] = joined_forecast[\"yhat\"].astype(str)"
   ]
  },
  {
   "cell_type": "code",
   "execution_count": 111,
   "metadata": {
    "colab": {
     "base_uri": "https://localhost:8080/",
     "height": 406
    },
    "id": "DkSKJKf1r15z",
    "outputId": "786e1dd9-4b12-4a6f-f181-badf5a3f2952"
   },
   "outputs": [
    {
     "data": {
      "text/html": [
       "<div>\n",
       "<style scoped>\n",
       "    .dataframe tbody tr th:only-of-type {\n",
       "        vertical-align: middle;\n",
       "    }\n",
       "\n",
       "    .dataframe tbody tr th {\n",
       "        vertical-align: top;\n",
       "    }\n",
       "\n",
       "    .dataframe thead th {\n",
       "        text-align: right;\n",
       "    }\n",
       "</style>\n",
       "<table border=\"1\" class=\"dataframe\">\n",
       "  <thead>\n",
       "    <tr style=\"text-align: right;\">\n",
       "      <th></th>\n",
       "      <th>index</th>\n",
       "      <th>ds</th>\n",
       "      <th>y</th>\n",
       "      <th>index</th>\n",
       "      <th>yhat</th>\n",
       "    </tr>\n",
       "  </thead>\n",
       "  <tbody>\n",
       "    <tr>\n",
       "      <th>0</th>\n",
       "      <td>26057</td>\n",
       "      <td>1970-01-31 03:00:00</td>\n",
       "      <td>2</td>\n",
       "      <td>0</td>\n",
       "      <td>2</td>\n",
       "    </tr>\n",
       "    <tr>\n",
       "      <th>1</th>\n",
       "      <td>26058</td>\n",
       "      <td>1970-01-31 03:00:30</td>\n",
       "      <td>2</td>\n",
       "      <td>1</td>\n",
       "      <td>2</td>\n",
       "    </tr>\n",
       "    <tr>\n",
       "      <th>2</th>\n",
       "      <td>26059</td>\n",
       "      <td>1970-01-31 03:01:00</td>\n",
       "      <td>2</td>\n",
       "      <td>2</td>\n",
       "      <td>2</td>\n",
       "    </tr>\n",
       "    <tr>\n",
       "      <th>3</th>\n",
       "      <td>26060</td>\n",
       "      <td>1970-01-31 03:01:30</td>\n",
       "      <td>2</td>\n",
       "      <td>3</td>\n",
       "      <td>2</td>\n",
       "    </tr>\n",
       "    <tr>\n",
       "      <th>4</th>\n",
       "      <td>26061</td>\n",
       "      <td>1970-01-31 03:02:00</td>\n",
       "      <td>2</td>\n",
       "      <td>4</td>\n",
       "      <td>2</td>\n",
       "    </tr>\n",
       "    <tr>\n",
       "      <th>...</th>\n",
       "      <td>...</td>\n",
       "      <td>...</td>\n",
       "      <td>...</td>\n",
       "      <td>...</td>\n",
       "      <td>...</td>\n",
       "    </tr>\n",
       "    <tr>\n",
       "      <th>355</th>\n",
       "      <td>26412</td>\n",
       "      <td>1970-01-31 05:57:30</td>\n",
       "      <td>0</td>\n",
       "      <td>355</td>\n",
       "      <td>2</td>\n",
       "    </tr>\n",
       "    <tr>\n",
       "      <th>356</th>\n",
       "      <td>26413</td>\n",
       "      <td>1970-01-31 05:58:00</td>\n",
       "      <td>0</td>\n",
       "      <td>356</td>\n",
       "      <td>2</td>\n",
       "    </tr>\n",
       "    <tr>\n",
       "      <th>357</th>\n",
       "      <td>26414</td>\n",
       "      <td>1970-01-31 05:58:30</td>\n",
       "      <td>0</td>\n",
       "      <td>357</td>\n",
       "      <td>2</td>\n",
       "    </tr>\n",
       "    <tr>\n",
       "      <th>358</th>\n",
       "      <td>26415</td>\n",
       "      <td>1970-01-31 05:59:00</td>\n",
       "      <td>0</td>\n",
       "      <td>358</td>\n",
       "      <td>2</td>\n",
       "    </tr>\n",
       "    <tr>\n",
       "      <th>359</th>\n",
       "      <td>26416</td>\n",
       "      <td>1970-01-31 05:59:30</td>\n",
       "      <td>0</td>\n",
       "      <td>359</td>\n",
       "      <td>2</td>\n",
       "    </tr>\n",
       "  </tbody>\n",
       "</table>\n",
       "<p>360 rows × 5 columns</p>\n",
       "</div>"
      ],
      "text/plain": [
       "     index                  ds  y  index yhat\n",
       "0    26057 1970-01-31 03:00:00  2      0    2\n",
       "1    26058 1970-01-31 03:00:30  2      1    2\n",
       "2    26059 1970-01-31 03:01:00  2      2    2\n",
       "3    26060 1970-01-31 03:01:30  2      3    2\n",
       "4    26061 1970-01-31 03:02:00  2      4    2\n",
       "..     ...                 ... ..    ...  ...\n",
       "355  26412 1970-01-31 05:57:30  0    355    2\n",
       "356  26413 1970-01-31 05:58:00  0    356    2\n",
       "357  26414 1970-01-31 05:58:30  0    357    2\n",
       "358  26415 1970-01-31 05:59:00  0    358    2\n",
       "359  26416 1970-01-31 05:59:30  0    359    2\n",
       "\n",
       "[360 rows x 5 columns]"
      ]
     },
     "execution_count": 111,
     "metadata": {
      "tags": []
     },
     "output_type": "execute_result"
    }
   ],
   "source": [
    "joined_forecast"
   ]
  },
  {
   "cell_type": "code",
   "execution_count": 141,
   "metadata": {
    "colab": {
     "base_uri": "https://localhost:8080/"
    },
    "id": "im9VxLzInlZC",
    "outputId": "c173390d-bc49-4130-98e7-b0e8b18dfbe1"
   },
   "outputs": [
    {
     "name": "stdout",
     "output_type": "stream",
     "text": [
      "1.6884144391587432\n"
     ]
    }
   ],
   "source": [
    "from sklearn.metrics import mean_squared_error\n",
    "rmse_df = joined_forecast\n",
    "rms = mean_squared_error(rmse_df['y'], rmse_df['yhat'], squared=False)\n",
    "print(rms)"
   ]
  },
  {
   "cell_type": "markdown",
   "metadata": {
    "id": "aMTrChUm0GWK"
   },
   "source": [
    "This managed to improve our error significantly, roughly by half. We knew we could make some adjustments and try ti improve on this for univariate but with the signifcantly shorter deadline for this assignemnt and being a duo group we decided it was time to start using all of the lovely features that we had extracted in the previous assignment to see what improvements that might bring. The next section will discuss Multivariate Time Series Forecasting"
   ]
  }
 ],
 "metadata": {
  "colab": {
   "name": "FirstPage.ipynb",
   "provenance": []
  },
  "kernelspec": {
   "display_name": "Python 3",
   "name": "python3"
  }
 },
 "nbformat": 4,
 "nbformat_minor": 0
}