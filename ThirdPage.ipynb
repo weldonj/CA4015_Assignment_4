{
  "nbformat": 4,
  "nbformat_minor": 0,
  "metadata": {
    "colab": {
      "name": "Spotify Integration.ipynb",
      "provenance": [],
      "toc_visible": true
    },
    "kernelspec": {
      "name": "python3",
      "display_name": "Python 3"
    }
  },
  "cells": [
    {
      "cell_type": "markdown",
      "metadata": {
        "id": "xLmkaE3-YVbA"
      },
      "source": [
        "# Spotify Web API Integration with Tekore"
      ]
    },
    {
      "cell_type": "markdown",
      "metadata": {
        "id": "T_8Vs1LwYhsb"
      },
      "source": [
        "## Import Tekore and Spotify authentication"
      ]
    },
    {
      "cell_type": "markdown",
      "metadata": {
        "id": "yVIasfRFYakF"
      },
      "source": [
        "In this notebook we will use Tekore to interact with the Spotify Web API. We want to combine our Last.FM recommender system with Spotify so that we can automatically generate a list of recommended artists based on a user's spotify top artists"
      ]
    },
    {
      "cell_type": "code",
      "metadata": {
        "id": "h073TPVE6Aue"
      },
      "source": [
        "import tekore as tk"
      ],
      "execution_count": null,
      "outputs": []
    },
    {
      "cell_type": "markdown",
      "metadata": {
        "id": "ACTq6hRMYhDG"
      },
      "source": [
        "Here we enter user details to log in to spotify, we have used #s to anonymise them afterwards"
      ]
    },
    {
      "cell_type": "code",
      "metadata": {
        "id": "grtIwkXI6ExX"
      },
      "source": [
        "# Read in keys\r\n",
        "client_id = \"952362c4671f440ab5024e############\"\r\n",
        "client_secret = \"04cbcba018864e9ba4############\"\r\n",
        "\r\n",
        "# Set URI\r\n",
        "redirect_uri = 'http://mysite.com/callback/'"
      ],
      "execution_count": null,
      "outputs": []
    },
    {
      "cell_type": "code",
      "metadata": {
        "id": "J9zfopgE6FWn"
      },
      "source": [
        "# authenticate\r\n",
        "conf = (client_id, client_secret, redirect_uri)\r\n",
        "token = tk.prompt_for_user_token(*conf, scope=tk.scope.every)\r\n",
        "\r\n",
        "spotify = tk.Spotify(token)"
      ],
      "execution_count": null,
      "outputs": []
    },
    {
      "cell_type": "markdown",
      "metadata": {
        "id": "guPAJ6ggbVwI"
      },
      "source": [
        "## Get user's most listened to Spotify Artists"
      ]
    },
    {
      "cell_type": "markdown",
      "metadata": {
        "id": "8X-MvB_qZL_D"
      },
      "source": [
        "The spotify.current_user_top_artists function will return the top artists that the Spotify user listens to"
      ]
    },
    {
      "cell_type": "code",
      "metadata": {
        "id": "u2irnrrT6Fr5"
      },
      "source": [
        "artists = spotify.current_user_top_artists(limit=5)\r\n",
        "spotify_artists = artists.items"
      ],
      "execution_count": null,
      "outputs": []
    },
    {
      "cell_type": "markdown",
      "metadata": {
        "id": "7OWu3OktZXE8"
      },
      "source": [
        "Now that we have the top 5, we can quickly take a look at what our Regularized model recommends. We can see Colter Wall isn't in the dataset, nor are System of a Down. So we will only get results for the Arctic Monkeys, Oasis, The Cranberries."
      ]
    },
    {
      "cell_type": "code",
      "metadata": {
        "id": "ZUXvMJAFkuH7",
        "colab": {
          "base_uri": "https://localhost:8080/",
          "height": 1000
        },
        "outputId": "b88662ae-e681-42f0-dfae-609c44b16da5"
      },
      "source": [
        "for i in range(0,5):\r\n",
        "  try: \r\n",
        "    artist_neighbors(reg_model, spotify_artists[i], DOT)\r\n",
        "    artist_neighbors(reg_model, spotify_artists[i], COSINE)\r\n",
        "  except:\r\n",
        "    print(spotify_artists[i] + \" isn't in the data\")\r\n"
      ],
      "execution_count": null,
      "outputs": [
        {
          "output_type": "stream",
          "text": [
            "Colter Wall isn't in the data\n",
            "Nearest neighbors of : Arctic Monkeys.\n",
            "[Found more than one matching artist. Other candidates: Arctic Monkeys vs The Killers]\n"
          ],
          "name": "stdout"
        },
        {
          "output_type": "display_data",
          "data": {
            "text/html": [
              "<div>\n",
              "<style scoped>\n",
              "    .dataframe tbody tr th:only-of-type {\n",
              "        vertical-align: middle;\n",
              "    }\n",
              "\n",
              "    .dataframe tbody tr th {\n",
              "        vertical-align: top;\n",
              "    }\n",
              "\n",
              "    .dataframe thead th {\n",
              "        text-align: right;\n",
              "    }\n",
              "</style>\n",
              "<table border=\"1\" class=\"dataframe\">\n",
              "  <thead>\n",
              "    <tr style=\"text-align: right;\">\n",
              "      <th></th>\n",
              "      <th>dot score</th>\n",
              "      <th>names</th>\n",
              "    </tr>\n",
              "  </thead>\n",
              "  <tbody>\n",
              "    <tr>\n",
              "      <th>201</th>\n",
              "      <td>27.652</td>\n",
              "      <td>Arctic Monkeys</td>\n",
              "    </tr>\n",
              "    <tr>\n",
              "      <th>59</th>\n",
              "      <td>15.966</td>\n",
              "      <td>Coldplay</td>\n",
              "    </tr>\n",
              "    <tr>\n",
              "      <th>148</th>\n",
              "      <td>15.565</td>\n",
              "      <td>Radiohead</td>\n",
              "    </tr>\n",
              "    <tr>\n",
              "      <th>418</th>\n",
              "      <td>15.507</td>\n",
              "      <td>The Strokes</td>\n",
              "    </tr>\n",
              "    <tr>\n",
              "      <th>197</th>\n",
              "      <td>13.730</td>\n",
              "      <td>Blur</td>\n",
              "    </tr>\n",
              "    <tr>\n",
              "      <th>406</th>\n",
              "      <td>13.467</td>\n",
              "      <td>blink-182</td>\n",
              "    </tr>\n",
              "  </tbody>\n",
              "</table>\n",
              "</div>"
            ],
            "text/plain": [
              "     dot score           names\n",
              "201     27.652  Arctic Monkeys\n",
              "59      15.966        Coldplay\n",
              "148     15.565       Radiohead\n",
              "418     15.507     The Strokes\n",
              "197     13.730            Blur\n",
              "406     13.467       blink-182"
            ]
          },
          "metadata": {
            "tags": []
          }
        },
        {
          "output_type": "stream",
          "text": [
            "Nearest neighbors of : Arctic Monkeys.\n",
            "[Found more than one matching artist. Other candidates: Arctic Monkeys vs The Killers]\n"
          ],
          "name": "stdout"
        },
        {
          "output_type": "display_data",
          "data": {
            "text/html": [
              "<div>\n",
              "<style scoped>\n",
              "    .dataframe tbody tr th:only-of-type {\n",
              "        vertical-align: middle;\n",
              "    }\n",
              "\n",
              "    .dataframe tbody tr th {\n",
              "        vertical-align: top;\n",
              "    }\n",
              "\n",
              "    .dataframe thead th {\n",
              "        text-align: right;\n",
              "    }\n",
              "</style>\n",
              "<table border=\"1\" class=\"dataframe\">\n",
              "  <thead>\n",
              "    <tr style=\"text-align: right;\">\n",
              "      <th></th>\n",
              "      <th>cosine score</th>\n",
              "      <th>names</th>\n",
              "    </tr>\n",
              "  </thead>\n",
              "  <tbody>\n",
              "    <tr>\n",
              "      <th>201</th>\n",
              "      <td>1.000</td>\n",
              "      <td>Arctic Monkeys</td>\n",
              "    </tr>\n",
              "    <tr>\n",
              "      <th>15292</th>\n",
              "      <td>0.773</td>\n",
              "      <td>The Demanders</td>\n",
              "    </tr>\n",
              "    <tr>\n",
              "      <th>3426</th>\n",
              "      <td>0.752</td>\n",
              "      <td>Christina,Lil' Kim,Mya,Pink</td>\n",
              "    </tr>\n",
              "    <tr>\n",
              "      <th>2113</th>\n",
              "      <td>0.745</td>\n",
              "      <td>The Rascals</td>\n",
              "    </tr>\n",
              "    <tr>\n",
              "      <th>3420</th>\n",
              "      <td>0.744</td>\n",
              "      <td>London Festival Orchestra/Peter Knight/The Moo...</td>\n",
              "    </tr>\n",
              "    <tr>\n",
              "      <th>15293</th>\n",
              "      <td>0.738</td>\n",
              "      <td>Marie &amp; Nick</td>\n",
              "    </tr>\n",
              "  </tbody>\n",
              "</table>\n",
              "</div>"
            ],
            "text/plain": [
              "       cosine score                                              names\n",
              "201           1.000                                     Arctic Monkeys\n",
              "15292         0.773                                      The Demanders\n",
              "3426          0.752                        Christina,Lil' Kim,Mya,Pink\n",
              "2113          0.745                                        The Rascals\n",
              "3420          0.744  London Festival Orchestra/Peter Knight/The Moo...\n",
              "15293         0.738                                       Marie & Nick"
            ]
          },
          "metadata": {
            "tags": []
          }
        },
        {
          "output_type": "stream",
          "text": [
            "Nearest neighbors of : Oasis.\n"
          ],
          "name": "stdout"
        },
        {
          "output_type": "display_data",
          "data": {
            "text/html": [
              "<div>\n",
              "<style scoped>\n",
              "    .dataframe tbody tr th:only-of-type {\n",
              "        vertical-align: middle;\n",
              "    }\n",
              "\n",
              "    .dataframe tbody tr th {\n",
              "        vertical-align: top;\n",
              "    }\n",
              "\n",
              "    .dataframe thead th {\n",
              "        text-align: right;\n",
              "    }\n",
              "</style>\n",
              "<table border=\"1\" class=\"dataframe\">\n",
              "  <thead>\n",
              "    <tr style=\"text-align: right;\">\n",
              "      <th></th>\n",
              "      <th>dot score</th>\n",
              "      <th>names</th>\n",
              "    </tr>\n",
              "  </thead>\n",
              "  <tbody>\n",
              "    <tr>\n",
              "      <th>527</th>\n",
              "      <td>27.320</td>\n",
              "      <td>Oasis</td>\n",
              "    </tr>\n",
              "    <tr>\n",
              "      <th>157</th>\n",
              "      <td>16.286</td>\n",
              "      <td>Pink Floyd</td>\n",
              "    </tr>\n",
              "    <tr>\n",
              "      <th>960</th>\n",
              "      <td>14.433</td>\n",
              "      <td>Kasabian</td>\n",
              "    </tr>\n",
              "    <tr>\n",
              "      <th>221</th>\n",
              "      <td>14.270</td>\n",
              "      <td>The Beatles</td>\n",
              "    </tr>\n",
              "    <tr>\n",
              "      <th>184</th>\n",
              "      <td>13.366</td>\n",
              "      <td>Muse</td>\n",
              "    </tr>\n",
              "    <tr>\n",
              "      <th>1081</th>\n",
              "      <td>12.824</td>\n",
              "      <td>Franz Ferdinand</td>\n",
              "    </tr>\n",
              "  </tbody>\n",
              "</table>\n",
              "</div>"
            ],
            "text/plain": [
              "      dot score            names\n",
              "527      27.320            Oasis\n",
              "157      16.286       Pink Floyd\n",
              "960      14.433         Kasabian\n",
              "221      14.270      The Beatles\n",
              "184      13.366             Muse\n",
              "1081     12.824  Franz Ferdinand"
            ]
          },
          "metadata": {
            "tags": []
          }
        },
        {
          "output_type": "stream",
          "text": [
            "Nearest neighbors of : Oasis.\n"
          ],
          "name": "stdout"
        },
        {
          "output_type": "display_data",
          "data": {
            "text/html": [
              "<div>\n",
              "<style scoped>\n",
              "    .dataframe tbody tr th:only-of-type {\n",
              "        vertical-align: middle;\n",
              "    }\n",
              "\n",
              "    .dataframe tbody tr th {\n",
              "        vertical-align: top;\n",
              "    }\n",
              "\n",
              "    .dataframe thead th {\n",
              "        text-align: right;\n",
              "    }\n",
              "</style>\n",
              "<table border=\"1\" class=\"dataframe\">\n",
              "  <thead>\n",
              "    <tr style=\"text-align: right;\">\n",
              "      <th></th>\n",
              "      <th>cosine score</th>\n",
              "      <th>names</th>\n",
              "    </tr>\n",
              "  </thead>\n",
              "  <tbody>\n",
              "    <tr>\n",
              "      <th>527</th>\n",
              "      <td>1.000</td>\n",
              "      <td>Oasis</td>\n",
              "    </tr>\n",
              "    <tr>\n",
              "      <th>1232</th>\n",
              "      <td>0.758</td>\n",
              "      <td>Skank</td>\n",
              "    </tr>\n",
              "    <tr>\n",
              "      <th>960</th>\n",
              "      <td>0.725</td>\n",
              "      <td>Kasabian</td>\n",
              "    </tr>\n",
              "    <tr>\n",
              "      <th>2519</th>\n",
              "      <td>0.724</td>\n",
              "      <td>Beady Eye</td>\n",
              "    </tr>\n",
              "    <tr>\n",
              "      <th>6322</th>\n",
              "      <td>0.689</td>\n",
              "      <td>1990s</td>\n",
              "    </tr>\n",
              "    <tr>\n",
              "      <th>7250</th>\n",
              "      <td>0.667</td>\n",
              "      <td>Fountains of Wayne</td>\n",
              "    </tr>\n",
              "  </tbody>\n",
              "</table>\n",
              "</div>"
            ],
            "text/plain": [
              "      cosine score               names\n",
              "527          1.000               Oasis\n",
              "1232         0.758               Skank\n",
              "960          0.725            Kasabian\n",
              "2519         0.724           Beady Eye\n",
              "6322         0.689               1990s\n",
              "7250         0.667  Fountains of Wayne"
            ]
          },
          "metadata": {
            "tags": []
          }
        },
        {
          "output_type": "stream",
          "text": [
            "Nearest neighbors of : The Cranberries.\n"
          ],
          "name": "stdout"
        },
        {
          "output_type": "display_data",
          "data": {
            "text/html": [
              "<div>\n",
              "<style scoped>\n",
              "    .dataframe tbody tr th:only-of-type {\n",
              "        vertical-align: middle;\n",
              "    }\n",
              "\n",
              "    .dataframe tbody tr th {\n",
              "        vertical-align: top;\n",
              "    }\n",
              "\n",
              "    .dataframe thead th {\n",
              "        text-align: right;\n",
              "    }\n",
              "</style>\n",
              "<table border=\"1\" class=\"dataframe\">\n",
              "  <thead>\n",
              "    <tr style=\"text-align: right;\">\n",
              "      <th></th>\n",
              "      <th>dot score</th>\n",
              "      <th>names</th>\n",
              "    </tr>\n",
              "  </thead>\n",
              "  <tbody>\n",
              "    <tr>\n",
              "      <th>160</th>\n",
              "      <td>15.286</td>\n",
              "      <td>The Cranberries</td>\n",
              "    </tr>\n",
              "    <tr>\n",
              "      <th>153</th>\n",
              "      <td>11.060</td>\n",
              "      <td>The Cure</td>\n",
              "    </tr>\n",
              "    <tr>\n",
              "      <th>608</th>\n",
              "      <td>10.638</td>\n",
              "      <td>Pearl Jam</td>\n",
              "    </tr>\n",
              "    <tr>\n",
              "      <th>167</th>\n",
              "      <td>10.082</td>\n",
              "      <td>Placebo</td>\n",
              "    </tr>\n",
              "    <tr>\n",
              "      <th>223</th>\n",
              "      <td>10.003</td>\n",
              "      <td>The Killers</td>\n",
              "    </tr>\n",
              "    <tr>\n",
              "      <th>709</th>\n",
              "      <td>9.987</td>\n",
              "      <td>R.E.M.</td>\n",
              "    </tr>\n",
              "  </tbody>\n",
              "</table>\n",
              "</div>"
            ],
            "text/plain": [
              "     dot score            names\n",
              "160     15.286  The Cranberries\n",
              "153     11.060         The Cure\n",
              "608     10.638        Pearl Jam\n",
              "167     10.082          Placebo\n",
              "223     10.003      The Killers\n",
              "709      9.987           R.E.M."
            ]
          },
          "metadata": {
            "tags": []
          }
        },
        {
          "output_type": "stream",
          "text": [
            "Nearest neighbors of : The Cranberries.\n"
          ],
          "name": "stdout"
        },
        {
          "output_type": "display_data",
          "data": {
            "text/html": [
              "<div>\n",
              "<style scoped>\n",
              "    .dataframe tbody tr th:only-of-type {\n",
              "        vertical-align: middle;\n",
              "    }\n",
              "\n",
              "    .dataframe tbody tr th {\n",
              "        vertical-align: top;\n",
              "    }\n",
              "\n",
              "    .dataframe thead th {\n",
              "        text-align: right;\n",
              "    }\n",
              "</style>\n",
              "<table border=\"1\" class=\"dataframe\">\n",
              "  <thead>\n",
              "    <tr style=\"text-align: right;\">\n",
              "      <th></th>\n",
              "      <th>cosine score</th>\n",
              "      <th>names</th>\n",
              "    </tr>\n",
              "  </thead>\n",
              "  <tbody>\n",
              "    <tr>\n",
              "      <th>160</th>\n",
              "      <td>1.000</td>\n",
              "      <td>The Cranberries</td>\n",
              "    </tr>\n",
              "    <tr>\n",
              "      <th>709</th>\n",
              "      <td>0.717</td>\n",
              "      <td>R.E.M.</td>\n",
              "    </tr>\n",
              "    <tr>\n",
              "      <th>1374</th>\n",
              "      <td>0.710</td>\n",
              "      <td>Imogen Heap</td>\n",
              "    </tr>\n",
              "    <tr>\n",
              "      <th>10878</th>\n",
              "      <td>0.675</td>\n",
              "      <td>Ben Moody</td>\n",
              "    </tr>\n",
              "    <tr>\n",
              "      <th>3265</th>\n",
              "      <td>0.672</td>\n",
              "      <td>Phil Collins</td>\n",
              "    </tr>\n",
              "    <tr>\n",
              "      <th>10316</th>\n",
              "      <td>0.667</td>\n",
              "      <td>Juli</td>\n",
              "    </tr>\n",
              "  </tbody>\n",
              "</table>\n",
              "</div>"
            ],
            "text/plain": [
              "       cosine score            names\n",
              "160           1.000  The Cranberries\n",
              "709           0.717           R.E.M.\n",
              "1374          0.710      Imogen Heap\n",
              "10878         0.675        Ben Moody\n",
              "3265          0.672     Phil Collins\n",
              "10316         0.667             Juli"
            ]
          },
          "metadata": {
            "tags": []
          }
        }
      ]
    },
    {
      "cell_type": "markdown",
      "metadata": {
        "id": "PfjYwRkZZvcx"
      },
      "source": [
        "It's clear that, as we saw in the previous notebook, the recommendations are really quite good for these artists, matching the kinds of artists you'd expect to see."
      ]
    },
    {
      "cell_type": "markdown",
      "metadata": {
        "id": "JrUqbgneZ7wL"
      },
      "source": [
        "Now we change the artist_neighbors function so it returns the actual dataframe of recommended artists and doesn't just display them"
      ]
    },
    {
      "cell_type": "code",
      "metadata": {
        "id": "03Hclyw4H7L_"
      },
      "source": [
        "def artist_neighbors_return_df(model, title_substring, measure=DOT, k=6):\r\n",
        "  # Search for movie ids that match the given substring.\r\n",
        "  ids =  artists[artists['name'].str.contains(title_substring)].index.values\r\n",
        "  titles = artists.iloc[ids]['name'].values\r\n",
        "  if len(titles) == 0:\r\n",
        "    raise ValueError(\"Found no artist with title %s\" % title_substring)\r\n",
        "  print(\"Nearest neighbors of : %s.\" % titles[0])\r\n",
        "  if len(titles) > 1:\r\n",
        "    print(\"[Found more than one matching artist. Other candidates: {}]\".format(\r\n",
        "        \", \".join(titles[1:])))\r\n",
        "  artistID = ids[0]\r\n",
        "  scores = compute_scores(\r\n",
        "      model.embeddings[\"artistID\"][artistID], model.embeddings[\"artistID\"],\r\n",
        "      measure)\r\n",
        "  score_key = measure + ' score'\r\n",
        "  df = pd.DataFrame({\r\n",
        "      score_key: list(scores),\r\n",
        "      'names': artists['name'],\r\n",
        "  })\r\n",
        "  return df.sort_values([score_key], ascending=False).head(k)"
      ],
      "execution_count": null,
      "outputs": []
    },
    {
      "cell_type": "markdown",
      "metadata": {
        "id": "OsFckcqkaDXZ"
      },
      "source": [
        "We store all of the dot product score recommendations and all of the cosine similarity score recommendations"
      ]
    },
    {
      "cell_type": "code",
      "metadata": {
        "colab": {
          "base_uri": "https://localhost:8080/"
        },
        "id": "FrtXhkhe8C3O",
        "outputId": "5ed87147-2000-4f8e-fd3b-698b1fce121d"
      },
      "source": [
        "dot_recs = []\r\n",
        "cos_recs = []\r\n",
        "all_recs = []\r\n",
        "\r\n",
        "for i in range(0,5):\r\n",
        "  try: \r\n",
        "    dot_recs.append(artist_neighbors_return_df(reg_model, spotify_artists[i], DOT))\r\n",
        "    cos_recs.append(artist_neighbors_return_df(reg_model, spotify_artists[i], COSINE))\r\n",
        "  except:\r\n",
        "    print(spotify_artists[i] + \" isn't in the data\")"
      ],
      "execution_count": null,
      "outputs": [
        {
          "output_type": "stream",
          "text": [
            "Colter Wall isn't in the data\n",
            "Nearest neighbors of : Arctic Monkeys.\n",
            "[Found more than one matching artist. Other candidates: Arctic Monkeys vs The Killers]\n",
            "Nearest neighbors of : Arctic Monkeys.\n",
            "[Found more than one matching artist. Other candidates: Arctic Monkeys vs The Killers]\n",
            "Nearest neighbors of : Oasis.\n",
            "Nearest neighbors of : Oasis.\n",
            "Nearest neighbors of : The Cranberries.\n",
            "Nearest neighbors of : The Cranberries.\n",
            "System Of A Down isn't in the data\n"
          ],
          "name": "stdout"
        }
      ]
    },
    {
      "cell_type": "code",
      "metadata": {
        "id": "MvVF_j62HaK_"
      },
      "source": [
        "dot_df = pd.concat(dot_recs)\r\n",
        "cos_df = pd.concat(cos_recs)"
      ],
      "execution_count": null,
      "outputs": []
    },
    {
      "cell_type": "markdown",
      "metadata": {
        "id": "FMDwe4staNG2"
      },
      "source": [
        "Now we sort these two dataframes by score, descending. So we have the most recommended at the top"
      ]
    },
    {
      "cell_type": "code",
      "metadata": {
        "id": "E78wyDWZHg2S"
      },
      "source": [
        "dot_df = dot_df.sort_values(by=['dot score'], ascending=False)\r\n",
        "cos_df = cos_df.sort_values(by=['cosine score'], ascending=False)"
      ],
      "execution_count": null,
      "outputs": []
    },
    {
      "cell_type": "markdown",
      "metadata": {
        "id": "u5fo8xozaTcx"
      },
      "source": [
        "We add both sets of scores to the same database, and we remove any duplicates and also the user's top artists themselves as these will always be top of these recommendations but this isn't useful. We only want to recommend users that aren't already in the user's top listened to."
      ]
    },
    {
      "cell_type": "code",
      "metadata": {
        "id": "uTRLULbkIYNt"
      },
      "source": [
        "all_recs = []\r\n",
        "for i in range(1,len(dot_df)):\r\n",
        "  if dot_df.names.iloc[i] not in spotify_artists:\r\n",
        "    all_recs.append(dot_df.names.iloc[i])\r\n",
        "\r\n",
        "for i in range(1,len(cos_df)):\r\n",
        "  if cos_df.names.iloc[i] not in spotify_artists:\r\n",
        "    all_recs.append(cos_df.names.iloc[i])\r\n"
      ],
      "execution_count": null,
      "outputs": []
    },
    {
      "cell_type": "markdown",
      "metadata": {
        "id": "i9dCCLFpap1S"
      },
      "source": [
        "Add a column for rank, from 1 to the length of the dataframe"
      ]
    },
    {
      "cell_type": "code",
      "metadata": {
        "id": "RXPiNH6eIZT1"
      },
      "source": [
        "recs_df = pd.DataFrame(all_recs)\r\n",
        "recs_df['Rank'] = int\r\n",
        "for i in range(0,len(recs_df)):\r\n",
        "  recs_df['Rank'][i] = i+1"
      ],
      "execution_count": null,
      "outputs": []
    },
    {
      "cell_type": "markdown",
      "metadata": {
        "id": "QWs2X-4ZavZA"
      },
      "source": [
        "Rename column to \"Recommended Artist\""
      ]
    },
    {
      "cell_type": "code",
      "metadata": {
        "id": "ENxeuIj9J_52"
      },
      "source": [
        "recs_df = recs_df.rename(columns={0: \"Recommended Artist\"})"
      ],
      "execution_count": null,
      "outputs": []
    },
    {
      "cell_type": "markdown",
      "metadata": {
        "id": "5g0BVJuHaycQ"
      },
      "source": [
        "## Final Result"
      ]
    },
    {
      "cell_type": "markdown",
      "metadata": {
        "id": "92SBZuqOa1X7"
      },
      "source": [
        "Now we just make the output look nice, and there we have it. A list of, 30 in this case, of recommended artists based of the user's Spotify account. In this case, the Spotify account belonged to one of our team and they confirmed that this list is really great, showing us that it has worked out pretty well!"
      ]
    },
    {
      "cell_type": "code",
      "metadata": {
        "id": "t3TRfa68Ptbd",
        "colab": {
          "base_uri": "https://localhost:8080/"
        },
        "outputId": "f19bb2bc-45db-4b72-ab22-8243af1640a8"
      },
      "source": [
        "from tabulate import tabulate\r\n",
        "\r\n",
        "print(tabulate(recs_df, headers='keys', tablefmt='psql', showindex=\"never\"))"
      ],
      "execution_count": null,
      "outputs": [
        {
          "output_type": "stream",
          "text": [
            "+--------------------------------------------------------+--------+\n",
            "| Recommended Artist                                     |   Rank |\n",
            "|--------------------------------------------------------+--------|\n",
            "| Pink Floyd                                             |      1 |\n",
            "| Coldplay                                               |      2 |\n",
            "| Radiohead                                              |      3 |\n",
            "| The Strokes                                            |      4 |\n",
            "| Kasabian                                               |      5 |\n",
            "| The Beatles                                            |      6 |\n",
            "| Blur                                                   |      7 |\n",
            "| blink-182                                              |      8 |\n",
            "| Muse                                                   |      9 |\n",
            "| Franz Ferdinand                                        |     10 |\n",
            "| The Cure                                               |     11 |\n",
            "| Pearl Jam                                              |     12 |\n",
            "| Placebo                                                |     13 |\n",
            "| The Killers                                            |     14 |\n",
            "| R.E.M.                                                 |     15 |\n",
            "| The Demanders                                          |     16 |\n",
            "| Skank                                                  |     17 |\n",
            "| Christina,Lil' Kim,Mya,Pink                            |     18 |\n",
            "| The Rascals                                            |     19 |\n",
            "| London Festival Orchestra/Peter Knight/The Moody Blues |     20 |\n",
            "| Marie & Nick                                           |     21 |\n",
            "| Kasabian                                               |     22 |\n",
            "| Beady Eye                                              |     23 |\n",
            "| R.E.M.                                                 |     24 |\n",
            "| Imogen Heap                                            |     25 |\n",
            "| 1990s                                                  |     26 |\n",
            "| Ben Moody                                              |     27 |\n",
            "| Phil Collins                                           |     28 |\n",
            "| Fountains of Wayne                                     |     29 |\n",
            "| Juli                                                   |     30 |\n",
            "+--------------------------------------------------------+--------+\n"
          ],
          "name": "stdout"
        }
      ]
    }
  ]
}